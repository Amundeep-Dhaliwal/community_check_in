{
 "cells": [
  {
   "attachments": {},
   "cell_type": "markdown",
   "metadata": {},
   "source": [
    "## Solutions to MCQ test (python quick start)\n",
    "### Question 1\n",
    "- Python supports top-down and object oriented code\n",
    "- Uses open source frameworks\n",
    "- Compatible with most OS’s\n",
    "### Question 2\n",
    "- `if-elif-else` statements allow you define multiple conditions\n",
    "### Question 3\n",
    "- When a condition needs to select between two code blocks\n",
    "### Question 4\n",
    "- All of these\n",
    "### Question 5\n",
    "- Base cases are always included in recursive functions\n",
    "### Question 6\n",
    "- Counting from 1 to 100\n",
    "### Question 7\n",
    "- While loops continue iterating based on a condition\n",
    "### Question 8\n",
    "- A period precedes the attribute or method name when you use an object\n",
    "### Question 9\n",
    "- Define the function with the `def` keyword and indent the function body\n",
    "### Question 10\n",
    "- An object is an instance of a class\n",
    "### Question 11\n",
    "- Functions can be used for executing the same set of instructions from multiple places in a program\n",
    "### Question 12\n",
    "- Have the user input their favorite sport\n",
    "### Question 13\n",
    "- A tuple is a sequence that cannot be changed - they are immutable\n",
    "### Question 14\n",
    "- Use square brackets to create a list, the first element has the index of 0\n"
   ]
  },
  {
   "cell_type": "code",
   "execution_count": 7,
   "metadata": {},
   "outputs": [
    {
     "data": {
      "text/plain": [
       "['Amundeep Dhaliwal',\n",
       " 'Anastasiia Ilkiv',\n",
       " 'Ashraf Nazar',\n",
       " 'Ayodele Alakja',\n",
       " 'Blessin Opara',\n",
       " 'Caio Garcia',\n",
       " 'Eden Alexander',\n",
       " 'Edward Cox',\n",
       " 'Harriet Perks',\n",
       " 'Harry Wright',\n",
       " 'Iftekhar Ahmed',\n",
       " 'Jacques Pagels',\n",
       " 'Kai Roper-Blackman',\n",
       " 'Kelvin Kennedy',\n",
       " 'Permjit Singh-Ghataorre',\n",
       " 'Reuben Osborne',\n",
       " 'Ross Maguire',\n",
       " 'Toni Morgans']"
      ]
     },
     "execution_count": 7,
     "metadata": {},
     "output_type": "execute_result"
    }
   ],
   "source": [
    "ANDi_names = [\n",
    "    'Toni Morgans',\n",
    "    'Ayodele Alakja',\n",
    "    'Blessin Opara',\n",
    "    'Harriet Perks',\n",
    "    'Iftekhar Ahmed',\n",
    "    'Kai Roper-Blackman',\n",
    "    'Permjit Singh-Ghataorre',\n",
    "    'Amundeep Dhaliwal',\n",
    "    'Ross Maguire',\n",
    "    'Anastasiia Ilkiv',\n",
    "    'Ashraf Nazar',\n",
    "    'Caio Garcia',\n",
    "    'Eden Alexander',\n",
    "    'Edward Cox',\n",
    "    'Harry Wright',\n",
    "    'Jacques Pagels',\n",
    "    'Kelvin Kennedy',\n",
    "    'Reuben Osborne'\n",
    "]\n",
    "def sort_names(names):\n",
    "    return sorted(names)\n",
    "sort_names(ANDi_names)\n"
   ]
  },
  {
   "cell_type": "code",
   "execution_count": 10,
   "metadata": {},
   "outputs": [
    {
     "data": {
      "text/plain": [
       "'No'"
      ]
     },
     "execution_count": 10,
     "metadata": {},
     "output_type": "execute_result"
    }
   ],
   "source": [
    "trigger_words = [\n",
    "    'Dog',\n",
    "    'Pet',\n",
    "    'Music',\n",
    "    'Funny meme',\n",
    "    'Listen to this'\n",
    "]\n",
    "\n",
    "def safe_to_read(string):\n",
    "    lowercase_string = string.lower()\n",
    "    for trigger in trigger_words:\n",
    "        if trigger.lower() in lowercase_string:\n",
    "            return 'No'\n",
    "    return 'Safe'\n",
    "\n",
    "safe_to_read('where has my pet gone?')"
   ]
  },
  {
   "cell_type": "code",
   "execution_count": 9,
   "metadata": {},
   "outputs": [
    {
     "data": {
      "text/plain": [
       "'4ndd1g1t4l 15 c00l'"
      ]
     },
     "execution_count": 9,
     "metadata": {},
     "output_type": "execute_result"
    }
   ],
   "source": [
    "def hacker_speak(string):\n",
    "    letters_to_numbers = {'a':'4', 'e':'3', 'i':'1', 'o':'0', 's':'5'}\n",
    "    replaced_letters = []\n",
    "    for letter in string:\n",
    "        if letter in letters_to_numbers:\n",
    "            replaced_letters += letters_to_numbers[letter]\n",
    "        else:\n",
    "            replaced_letters += letter\n",
    "    return ''.join(replaced_letters)\n",
    "\n",
    "hacker_speak('anddigital is cool')"
   ]
  }
 ],
 "metadata": {
  "kernelspec": {
   "display_name": "ipython_venv_3.10.4",
   "language": "python",
   "name": "ipython_venv_3.10.4"
  },
  "language_info": {
   "codemirror_mode": {
    "name": "ipython",
    "version": 3
   },
   "file_extension": ".py",
   "mimetype": "text/x-python",
   "name": "python",
   "nbconvert_exporter": "python",
   "pygments_lexer": "ipython3",
   "version": "3.10.4"
  },
  "orig_nbformat": 4,
  "vscode": {
   "interpreter": {
    "hash": "aee8b7b246df8f9039afb4144a1f6fd8d2ca17a180786b69acc140d282b71a49"
   }
  }
 },
 "nbformat": 4,
 "nbformat_minor": 2
}
